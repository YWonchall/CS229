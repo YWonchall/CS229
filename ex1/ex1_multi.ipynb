{
 "cells": [
  {
   "cell_type": "code",
   "execution_count": 1,
   "id": "9609f563",
   "metadata": {},
   "outputs": [],
   "source": [
    "from matplotlib import use\n",
    "use('Agg')\n",
    "import numpy as np\n",
    "import matplotlib.pyplot as plt\n",
    "from gradientDescentMulti import gradientDescentMulti\n",
    "from normalEqn import normalEqn\n",
    "from featureNormalize import featureNormalize"
   ]
  },
  {
   "cell_type": "code",
   "execution_count": 2,
   "id": "44321a16",
   "metadata": {},
   "outputs": [
    {
     "name": "stdout",
     "output_type": "stream",
     "text": [
      "Loading data ...\n",
      "Normalizing Features ...\n",
      "mu= [2000.68085106    3.17021277] sigma= [7.86202619e+02 7.52842809e-01]\n"
     ]
    }
   ],
   "source": [
    "# ================ Part 1: Feature Normalization ================\n",
    "\n",
    "print ('Loading data ...')\n",
    "\n",
    "# Load Data\n",
    "data = np.loadtxt('ex1data2.txt', delimiter=',')\n",
    "X = data[:, :2]\n",
    "y = data[:, 2]\n",
    "m = y.T.size\n",
    "\n",
    "\n",
    "# Print out some data points\n",
    "#print ('First 10 examples from the dataset:')\n",
    "#print (np.column_stack( (X[:10], y[:10])))\n",
    "\n",
    "# Scale features and set them to zero mean\n",
    "print ('Normalizing Features ...')\n",
    "\n",
    "X_normal, mu, sigma = featureNormalize(X)\n",
    "print ('mu=',mu,'sigma=',sigma)\n",
    "# Add intercept term to X\n",
    "X_normal = np.concatenate((np.ones((m, 1)), X_normal), axis=1)"
   ]
  },
  {
   "cell_type": "code",
   "execution_count": 3,
   "id": "7b84aca3",
   "metadata": {},
   "outputs": [
    {
     "name": "stdout",
     "output_type": "stream",
     "text": [
      "Running gradient descent ...\n"
     ]
    },
    {
     "data": {
      "image/png": "[encoded data removed]",
      "text/plain": [
       "<Figure size 432x288 with 1 Axes>"
      ]
     },
     "metadata": {
      "needs_background": "light"
     },
     "output_type": "display_data"
    },
    {
     "name": "stdout",
     "output_type": "stream",
     "text": [
      "Theta computed from gradient descent: \n",
      "[ 3.38175581e+05  1.03031693e+05 -2.02322979e+02]\n",
      "Predicted price of a 1650 sq-ft, 3 br house\n",
      "(using gradient descent): \n",
      "351761.278602496\n"
     ]
    }
   ],
   "source": [
    "%matplotlib inline\n",
    "# ================ Part 2: Gradient Descent ================\n",
    "#\n",
    "# ====================== YOUR CODE HERE ======================\n",
    "# Instructions: We have provided you with the following starter\n",
    "#               code that runs gradient descent with a particular\n",
    "#               learning rate (alpha).\n",
    "#\n",
    "#               Your task is to first make sure that your functions -\n",
    "#               computeCost and gradientDescent already work with\n",
    "#               this starter code and support multiple variables.\n",
    "#\n",
    "#               After that, try running gradient descent with\n",
    "#               different values of alpha and see which one gives\n",
    "#               you the best result.\n",
    "#\n",
    "#               Finally, you should complete the code at the end\n",
    "#               to predict the price of a 1650 sq-ft, 3 br house.\n",
    "#\n",
    "# Hint: By using the 'hold on' command, you can plot multiple\n",
    "#       graphs on the same figure.\n",
    "#\n",
    "# Hint: At prediction, make sure you do the same feature normalization.\n",
    "#\n",
    "\n",
    "print ('Running gradient descent ...')\n",
    "\n",
    "# Choose some alpha value\n",
    "alpha = 0.01\n",
    "num_iters = 500\n",
    "\n",
    "# Init Theta and Run Gradient Descent \n",
    "theta1 = np.zeros(3)\n",
    "# theta1 进行了特征缩放\n",
    "theta1, J_history = gradientDescentMulti(X_normal, y, theta1, alpha, num_iters)\n",
    "# Plot the convergence graph\n",
    "plt.figure()\n",
    "plt.plot(range(num_iters),J_history)\n",
    "plt.xlabel('Number of iterations')\n",
    "plt.ylabel('Cost J')\n",
    "plt.show()\n",
    "# Display gradient descent's result\n",
    "print ('Theta computed from gradient descent: ')\n",
    "print (theta1)\n",
    "\n",
    "\n",
    "price = X_normal[0].dot(theta1)\n",
    "\n",
    "print ('Predicted price of a 1650 sq-ft, 3 br house')\n",
    "print ('(using gradient descent): ')\n",
    "print (price)\n",
    "\n",
    "#raw_input(\"Program paused. Press Enter to continue...\")\n",
    "\n"
   ]
  },
  {
   "cell_type": "code",
   "execution_count": 4,
   "id": "19531707",
   "metadata": {},
   "outputs": [
    {
     "name": "stdout",
     "output_type": "stream",
     "text": [
      "Solving with normal equations...\n",
      "Theta computed from the normal equations:\n",
      " [89597.9095428    139.21067402 -8738.01911233] \n",
      "\n",
      "Predicted price of a 1650 sq-ft, 3 br house \n",
      "(using normal equations):\n",
      " 356283.110339\n",
      "\n"
     ]
    }
   ],
   "source": [
    "# ================ Part 3: Normal Equations ================\n",
    "\n",
    "# ====================== YOUR CODE HERE ======================\n",
    "# Instructions: The following code computes the closed form\n",
    "#               solution for linear regression using the normal\n",
    "#               equations. You should complete the code in\n",
    "#               normalEqn.m\n",
    "#\n",
    "#               After doing so, you should complete this code\n",
    "#               to predict the price of a 1650 sq-ft, 3 br house.\n",
    "#\n",
    "\n",
    "print ('Solving with normal equations...')\n",
    "\n",
    "# Add intercept term to X\n",
    "X = np.concatenate((np.ones((m,1)), X), axis=1)\n",
    "\n",
    "# Calculate the parameters from the normal equation\n",
    "# theta2 未进行特征缩放 与theta1数值不等\n",
    "theta2 = normalEqn(X, y)\n",
    "\n",
    "# Display normal equation's result\n",
    "print ('Theta computed from the normal equations:')\n",
    "print (' %s \\n' % theta2)\n",
    "\n",
    "# Estimate the price of a 1650 sq-ft, 3 br house\n",
    "price = X[0].dot(theta2)\n",
    "\n",
    "# ============================================================\n",
    "\n",
    "print (\"Predicted price of a 1650 sq-ft, 3 br house \")\n",
    "print ('(using normal equations):\\n %f\\n' % price)\n",
    "\n"
   ]
  },
  {
   "cell_type": "code",
   "execution_count": 5,
   "id": "351b2611",
   "metadata": {},
   "outputs": [
    {
     "name": "stdout",
     "output_type": "stream",
     "text": [
      "[351761.2786025  285712.18116813 390552.01836553] \n",
      " [356283.1103389  286120.93063401 397489.46984811]\n"
     ]
    }
   ],
   "source": [
    "price1 = X_normal[:3].dot(theta1)\n",
    "price2 = X[:3].dot(theta2)\n",
    "print(price1,'\\n',price2)"
   ]
  },
  {
   "cell_type": "code",
   "execution_count": null,
   "id": "c94ccde6",
   "metadata": {},
   "outputs": [],
   "source": []
  }
 ],
 "metadata": {
  "kernelspec": {
   "display_name": "Python 3 (ipykernel)",
   "language": "python",
   "name": "python3"
  },
  "language_info": {
   "codemirror_mode": {
    "name": "ipython",
    "version": 3
   },
   "file_extension": ".py",
   "mimetype": "text/x-python",
   "name": "python",
   "nbconvert_exporter": "python",
   "pygments_lexer": "ipython3",
   "version": "3.9.7"
  }
 },
 "nbformat": 4,
 "nbformat_minor": 5
}
