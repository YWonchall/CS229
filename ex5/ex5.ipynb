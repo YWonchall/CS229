{
 "cells": [
  {
   "cell_type": "code",
   "execution_count": 1,
   "id": "0ddca0e8",
   "metadata": {},
   "outputs": [],
   "source": [
    "import scipy.io\n",
    "import matplotlib.pyplot as plt\n",
    "import numpy as np\n",
    "\n",
    "from linearRegCostFunction import linearRegCostFunction\n",
    "from trainLinearReg import trainLinearReg\n",
    "from learningCurve import learningCurve\n",
    "from polyFeatures import polyFeatures\n",
    "from featureNormalize import featureNormalize\n",
    "from plotFit import plotFit\n",
    "from validationCurve import validationCurve\n",
    "\n",
    "## Machine Learning Online Class\n",
    "#  Exercise 5 | Regularized Linear Regression and Bias-Variance\n",
    "#\n",
    "#  Instructions\n",
    "#  ------------\n",
    "# \n",
    "#  This file contains code that helps you get started on the\n",
    "#  exercise. You will need to complete the following functions:\n",
    "#\n",
    "#     linearRegCostFunction.m\n",
    "#     learningCurve.m\n",
    "#     validationCurve.m\n",
    "#\n",
    "#  For this exercise, you will not need to change any code in this file,\n",
    "#  or any other files other than those mentioned above.\n",
    "#\n"
   ]
  },
  {
   "cell_type": "code",
   "execution_count": 2,
   "id": "069580a8",
   "metadata": {},
   "outputs": [
    {
     "name": "stdout",
     "output_type": "stream",
     "text": [
      "Loading and Visualizing Data ...\n"
     ]
    },
    {
     "data": {
      "image/png": "[encoded data removed]",
      "text/plain": [
       "<Figure size 432x288 with 1 Axes>"
      ]
     },
     "metadata": {
      "needs_background": "light"
     },
     "output_type": "display_data"
    }
   ],
   "source": [
    "%matplotlib inline \n",
    "## =========== Part 1: Loading and Visualizing Data =============\n",
    "#  We start the exercise by first loading and visualizing the dataset. \n",
    "#  The following code will load the dataset into your environment and plot\n",
    "#  the data.\n",
    "#\n",
    "\n",
    "# Load Training Data\n",
    "print ('Loading and Visualizing Data ...')\n",
    "\n",
    "# Load from ex5data1: \n",
    "# You will have X, y, Xval, yval, Xtest, ytest in your environment\n",
    "data = scipy.io.loadmat('ex5data1.mat')\n",
    "\n",
    "# m = Number of examples\n",
    "X = data['X'][:, 0]\n",
    "y = data['y'][:, 0]\n",
    "Xval = data['Xval'][:, 0]\n",
    "yval = data['yval'][:, 0]\n",
    "Xtest = data['Xtest'][:, 0]\n",
    "\n",
    "m = X.size\n",
    "\n",
    "# Plot training data\n",
    "plt.figure()\n",
    "plt.scatter(X, y, marker='x', s=60, color='r', lw=1.5)\n",
    "plt.ylabel('Water flowing out of the dam (y)')            # Set the y-axis label\n",
    "plt.xlabel('Change in water level (x)')     # Set the x-axis label\n",
    "plt.show()\n"
   ]
  },
  {
   "cell_type": "code",
   "execution_count": 3,
   "id": "a89e7be5",
   "metadata": {},
   "outputs": [
    {
     "name": "stdout",
     "output_type": "stream",
     "text": [
      "Cost at theta = [1  1]: 303.993192 \n",
      "(this value should be about 303.993192)\n",
      "\n",
      "Gradient at theta = [1  1]:  [-15.303016 598.250744] \n",
      "(this value should be about [-15.303016 598.250744])\n",
      "\n"
     ]
    }
   ],
   "source": [
    "## =========== Part 2: Regularized Linear Regression Cost =============\n",
    "#  You should now implement the cost function for regularized linear \n",
    "#  regression. \n",
    "#\n",
    "\n",
    "theta = np.array([1, 1])\n",
    "res = linearRegCostFunction(np.column_stack((np.ones(m), X)), y, theta, 1)\n",
    "J = res[0]\n",
    "grad = res[1]\n",
    "print ('Cost at theta = [1  1]: %f \\n(this value should be about 303.993192)\\n' % J) \n",
    "print ('Gradient at theta = [1  1]:  [%f %f] \\n(this value should be about [-15.303016 598.250744])\\n' %(grad[0], grad[1]))"
   ]
  },
  {
   "cell_type": "code",
   "execution_count": 4,
   "id": "8a69276f",
   "metadata": {},
   "outputs": [
    {
     "name": "stdout",
     "output_type": "stream",
     "text": [
      "Optimization terminated successfully.\n",
      "         Current function value: 22.379542\n",
      "         Iterations: 3\n",
      "         Function evaluations: 21\n",
      "         Gradient evaluations: 7\n"
     ]
    },
    {
     "data": {
      "text/plain": [
       "[<matplotlib.lines.Line2D at 0x7f248d68edf0>]"
      ]
     },
     "execution_count": 4,
     "metadata": {},
     "output_type": "execute_result"
    },
    {
     "data": {
      "image/png": "[encoded data removed]",
      "text/plain": [
       "<Figure size 432x288 with 1 Axes>"
      ]
     },
     "metadata": {
      "needs_background": "light"
     },
     "output_type": "display_data"
    }
   ],
   "source": [
    "## =========== Part 3: Train Linear Regression =============\n",
    "#  Once you have implemented the cost and gradient correctly, the\n",
    "#  trainLinearReg function will use your cost function to train \n",
    "#  regularized linear regression.\n",
    "# \n",
    "#  Write Up Note: The data is non-linear, so this will not give a great \n",
    "#                 fit.\n",
    "#\n",
    "\n",
    "#  Train linear regression with Lambda = 0\n",
    "Lambda = 0\n",
    "theta = trainLinearReg(np.column_stack((np.ones(m), X)), y, 1)\n",
    "\n",
    "#  Plot fit over the data\n",
    "plt.figure()\n",
    "plt.scatter(X, y, marker='x', s=20, color='r', lw=1.5)\n",
    "plt.ylabel('Water flowing out of the dam (y)')            # Set the y-axis label\n",
    "plt.xlabel('Change in water level (x)')     # Set the x-axis label\n",
    "plt.plot(X, np.column_stack((np.ones(m), X)).dot(theta))\n",
    "\n",
    "\n"
   ]
  },
  {
   "cell_type": "code",
   "execution_count": 5,
   "id": "c6349f65",
   "metadata": {},
   "outputs": [
    {
     "name": "stdout",
     "output_type": "stream",
     "text": [
      "Optimization terminated successfully.\n",
      "         Current function value: 0.000000\n",
      "         Iterations: 1\n",
      "         Function evaluations: 9\n",
      "         Gradient evaluations: 3\n",
      "Optimization terminated successfully.\n",
      "         Current function value: 0.000000\n",
      "         Iterations: 2\n",
      "         Function evaluations: 18\n",
      "         Gradient evaluations: 6\n",
      "Optimization terminated successfully.\n",
      "         Current function value: 3.286595\n",
      "         Iterations: 9\n",
      "         Function evaluations: 48\n",
      "         Gradient evaluations: 16\n",
      "Optimization terminated successfully.\n",
      "         Current function value: 2.842678\n",
      "         Iterations: 8\n",
      "         Function evaluations: 42\n",
      "         Gradient evaluations: 14\n",
      "Optimization terminated successfully.\n",
      "         Current function value: 13.154049\n",
      "         Iterations: 17\n",
      "         Function evaluations: 84\n",
      "         Gradient evaluations: 28\n",
      "Optimization terminated successfully.\n",
      "         Current function value: 19.443963\n",
      "         Iterations: 23\n",
      "         Function evaluations: 120\n",
      "         Gradient evaluations: 40\n",
      "Optimization terminated successfully.\n",
      "         Current function value: 20.098522\n",
      "         Iterations: 18\n",
      "         Function evaluations: 96\n",
      "         Gradient evaluations: 32\n",
      "Optimization terminated successfully.\n",
      "         Current function value: 18.172859\n",
      "         Iterations: 3\n",
      "         Function evaluations: 21\n",
      "         Gradient evaluations: 7\n",
      "Optimization terminated successfully.\n",
      "         Current function value: 22.609405\n",
      "         Iterations: 3\n",
      "         Function evaluations: 21\n",
      "         Gradient evaluations: 7\n",
      "Optimization terminated successfully.\n",
      "         Current function value: 23.261462\n",
      "         Iterations: 2\n",
      "         Function evaluations: 15\n",
      "         Gradient evaluations: 5\n",
      "Optimization terminated successfully.\n",
      "         Current function value: 24.317250\n",
      "         Iterations: 3\n",
      "         Function evaluations: 21\n",
      "         Gradient evaluations: 7\n",
      "Optimization terminated successfully.\n",
      "         Current function value: 22.373906\n",
      "         Iterations: 3\n",
      "         Function evaluations: 21\n",
      "         Gradient evaluations: 7\n",
      "Training Examples\tTrain Error\tCross Validation Error\n",
      "  \t0\t\t0.000000\t205.121097\n",
      "  \t1\t\t0.000000\t110.300407\n",
      "  \t2\t\t3.286595\t45.010230\n",
      "  \t3\t\t2.842678\t48.368911\n",
      "  \t4\t\t13.154049\t35.865164\n",
      "  \t5\t\t19.443963\t33.829958\n",
      "  \t6\t\t20.098522\t31.970985\n",
      "  \t7\t\t18.172859\t30.862446\n",
      "  \t8\t\t22.609405\t31.135999\n",
      "  \t9\t\t23.261462\t28.936206\n",
      "  \t10\t\t24.317250\t29.551429\n",
      "  \t11\t\t22.373906\t29.433815\n"
     ]
    },
    {
     "data": {
      "image/png": "[encoded data removed]",
      "text/plain": [
       "<Figure size 432x288 with 1 Axes>"
      ]
     },
     "metadata": {
      "needs_background": "light"
     },
     "output_type": "display_data"
    }
   ],
   "source": [
    "## =========== Part 4: Learning Curve for Linear Regression =============\n",
    "#  Next, you should implement the learningCurve function. \n",
    "#\n",
    "#  Write Up Note: Since the model is underfitting the data, we expect to\n",
    "#                 see a graph with \"high bias\" -- slide 8 in ML-advice.pdf \n",
    "#\n",
    "\n",
    "Lambda = 0\n",
    "error_train, error_val = learningCurve(np.column_stack((np.ones(m), X)), y,\n",
    "                                       np.column_stack((np.ones(Xval.shape[0]), Xval)), yval, Lambda)\n",
    "plt.figure()\n",
    "plt.plot(range(m), error_train, color='b', lw=0.5, label='Train')\n",
    "plt.plot(range(m), error_val, color='r', lw=0.5, label='Cross Validation')\n",
    "plt.title('Learning curve for linear regression')\n",
    "plt.legend()\n",
    "plt.xlabel('Number of training examples')\n",
    "plt.ylabel('Error')\n",
    "\n",
    "plt.xlim(0, 13)\n",
    "plt.ylim(0, 150)\n",
    "plt.legend(loc='upper right', shadow=True, fontsize='x-large', numpoints=1)\n",
    "\n",
    "print ('Training Examples\\tTrain Error\\tCross Validation Error')\n",
    "for i in range(m):\n",
    "    print ('  \\t%d\\t\\t%f\\t%f' % (i, error_train[i], error_val[i]))\n",
    "\n"
   ]
  },
  {
   "cell_type": "code",
   "execution_count": 6,
   "id": "ab2bd15b",
   "metadata": {},
   "outputs": [
    {
     "name": "stdout",
     "output_type": "stream",
     "text": [
      "Normalized Training Example 1:\n",
      "[ 1.         -0.36214078 -0.75508669  0.18222588 -0.70618991  0.30661792\n",
      " -0.59087767  0.3445158  -0.50848117]\n"
     ]
    }
   ],
   "source": [
    "## =========== Part 6: Feature Mapping for Polynomial Regression =============\n",
    "#  One solution to this is to use polynomial regression. You should now\n",
    "#  complete polyFeatures to map each example into its powers\n",
    "#\n",
    "\n",
    "p = 8\n",
    "\n",
    "# Map X onto Polynomial Features and Normalize\n",
    "X_poly = polyFeatures(X, p)\n",
    "X_poly, mu, sigma = featureNormalize(X_poly)  # Normalize\n",
    "X_poly = np.column_stack((np.ones(m), X_poly))                   # Add Ones\n",
    "\n",
    "# Map X_poly_test and normalize (using mu and sigma)\n",
    "X_poly_test = polyFeatures(Xtest, p)\n",
    "X_poly_test = X_poly_test - mu\n",
    "X_poly_test = X_poly_test / sigma\n",
    "X_poly_test = np.column_stack((np.ones(X_poly_test.shape[0]), X_poly_test))        # Add Ones\n",
    "\n",
    "# Map X_poly_val and normalize (using mu and sigma)\n",
    "X_poly_val = polyFeatures(Xval, p)\n",
    "X_poly_val = X_poly_val - mu\n",
    "X_poly_val = X_poly_val / sigma\n",
    "X_poly_val = np.column_stack((np.ones(X_poly_test.shape[0]), X_poly_val))           # Add Ones\n",
    "\n",
    "print ('Normalized Training Example 1:')\n",
    "print (X_poly[0, :])\n"
   ]
  },
  {
   "cell_type": "code",
   "execution_count": 7,
   "id": "5bf2dd9b",
   "metadata": {},
   "outputs": [
    {
     "name": "stdout",
     "output_type": "stream",
     "text": [
      "Warning: Maximum number of iterations has been exceeded.\n",
      "         Current function value: 0.533125\n",
      "         Iterations: 10\n",
      "         Function evaluations: 110\n",
      "         Gradient evaluations: 11\n"
     ]
    },
    {
     "data": {
      "image/png": "[encoded data removed]",
      "text/plain": [
       "<Figure size 432x288 with 1 Axes>"
      ]
     },
     "metadata": {
      "needs_background": "light"
     },
     "output_type": "display_data"
    },
    {
     "name": "stdout",
     "output_type": "stream",
     "text": [
      "Optimization terminated successfully.\n",
      "         Current function value: 0.000000\n",
      "         Iterations: 2\n",
      "         Function evaluations: 40\n",
      "         Gradient evaluations: 4\n",
      "Optimization terminated successfully.\n",
      "         Current function value: 0.000000\n",
      "         Iterations: 3\n",
      "         Function evaluations: 60\n",
      "         Gradient evaluations: 6\n",
      "Optimization terminated successfully.\n",
      "         Current function value: 0.000000\n",
      "         Iterations: 11\n",
      "         Function evaluations: 220\n",
      "         Gradient evaluations: 22\n",
      "Optimization terminated successfully.\n",
      "         Current function value: 0.000000\n",
      "         Iterations: 8\n",
      "         Function evaluations: 200\n",
      "         Gradient evaluations: 20\n",
      "Optimization terminated successfully.\n",
      "         Current function value: 0.000000\n",
      "         Iterations: 89\n",
      "         Function evaluations: 1590\n",
      "         Gradient evaluations: 159\n",
      "Optimization terminated successfully.\n",
      "         Current function value: 0.000000\n",
      "         Iterations: 92\n",
      "         Function evaluations: 1790\n",
      "         Gradient evaluations: 179\n",
      "Warning: Maximum number of iterations has been exceeded.\n",
      "         Current function value: 0.000018\n",
      "         Iterations: 200\n",
      "         Function evaluations: 3530\n",
      "         Gradient evaluations: 353\n",
      "Warning: Maximum number of iterations has been exceeded.\n",
      "         Current function value: 0.065517\n",
      "         Iterations: 200\n",
      "         Function evaluations: 3530\n",
      "         Gradient evaluations: 353\n",
      "Warning: Maximum number of iterations has been exceeded.\n",
      "         Current function value: 0.041291\n",
      "         Iterations: 200\n",
      "         Function evaluations: 3870\n",
      "         Gradient evaluations: 387\n",
      "Warning: Maximum number of iterations has been exceeded.\n",
      "         Current function value: 0.040473\n",
      "         Iterations: 200\n",
      "         Function evaluations: 4030\n",
      "         Gradient evaluations: 403\n",
      "Warning: Maximum number of iterations has been exceeded.\n",
      "         Current function value: 0.101130\n",
      "         Iterations: 200\n",
      "         Function evaluations: 3670\n",
      "         Gradient evaluations: 367\n",
      "Warning: Maximum number of iterations has been exceeded.\n",
      "         Current function value: 0.047011\n",
      "         Iterations: 200\n",
      "         Function evaluations: 3850\n",
      "         Gradient evaluations: 385\n"
     ]
    },
    {
     "data": {
      "image/png": "[encoded data removed]",
      "text/plain": [
       "<Figure size 432x288 with 1 Axes>"
      ]
     },
     "metadata": {
      "needs_background": "light"
     },
     "output_type": "display_data"
    },
    {
     "name": "stdout",
     "output_type": "stream",
     "text": [
      "Polynomial Regression (Lambda = 0.000000)\n",
      "\n",
      "\n",
      "# Training Examples\tTrain Error\tCross Validation Error\n",
      "  \t0\t\t0.000000\t160.721900\n",
      "  \t1\t\t0.000000\t160.121511\n",
      "  \t2\t\t0.000000\t61.755001\n",
      "  \t3\t\t0.000000\t61.929426\n",
      "  \t4\t\t0.000000\t6.598108\n",
      "  \t5\t\t0.000000\t10.654680\n",
      "  \t6\t\t0.000018\t27.347177\n",
      "  \t7\t\t0.065517\t7.908181\n",
      "  \t8\t\t0.041291\t14.218747\n",
      "  \t9\t\t0.040473\t19.184424\n",
      "  \t10\t\t0.101130\t6.726243\n",
      "  \t11\t\t0.047011\t13.788493\n"
     ]
    }
   ],
   "source": [
    "## =========== Part 7: Learning Curve for Polynomial Regression =============\n",
    "#  Now, you will get to experiment with polynomial regression with multiple\n",
    "#  values of Lambda. The code below runs polynomial regression with \n",
    "#  Lambda = 0. You should try running the code with different values of\n",
    "#  Lambda to see how the fit and learning curve change.\n",
    "#\n",
    "\n",
    "Lambda = 0\n",
    "theta = trainLinearReg(X_poly, y, Lambda, method='BFGS', maxiter=10)\n",
    "\n",
    "# Plot training data and fit\n",
    "plt.figure()\n",
    "plt.scatter(X, y, marker='x', s=10, color='r', lw=1.5)\n",
    "\n",
    "plotFit(min(X), max(X), mu, sigma, theta, p)\n",
    "\n",
    "plt.xlabel('Change in water level (x)')            # Set the y-axis label\n",
    "plt.ylabel('Water flowing out of the dam (y)')     # Set the x-axis label\n",
    "# plt.plot(X, np.column_stack((np.ones(m), X)).dot(theta), marker='_',  lw=2.0)\n",
    "plt.title('Polynomial Regression Fit (Lambda = %f)' % Lambda)\n",
    "plt.show()\n",
    "plt.figure()\n",
    "error_train, error_val = learningCurve(X_poly, y, X_poly_val, yval, Lambda)\n",
    "plt.plot(range(m), error_train, label='Train')\n",
    "plt.plot(range(m), error_val, label='Cross Validation')\n",
    "plt.title('Polynomial Regression Learning Curve (Lambda = %f)' % Lambda)\n",
    "plt.xlabel('Number of training examples')\n",
    "plt.ylabel('Error')\n",
    "plt.xlim(0, 13)\n",
    "plt.ylim(0, 150)\n",
    "plt.legend()\n",
    "plt.show()\n",
    "print ('Polynomial Regression (Lambda = %f)\\n\\n' % Lambda)\n",
    "print ('# Training Examples\\tTrain Error\\tCross Validation Error')\n",
    "for i in range(m):\n",
    "    print ('  \\t%d\\t\\t%f\\t%f' % (i, error_train[i], error_val[i]))\n",
    "\n"
   ]
  },
  {
   "cell_type": "code",
   "execution_count": 10,
   "id": "027b2ba3",
   "metadata": {},
   "outputs": [
    {
     "name": "stdout",
     "output_type": "stream",
     "text": [
      "Warning: Maximum number of iterations has been exceeded.\n",
      "         Current function value: 0.047011\n",
      "         Iterations: 200\n",
      "         Function evaluations: 3850\n",
      "         Gradient evaluations: 385\n",
      "Warning: Maximum number of iterations has been exceeded.\n",
      "         Current function value: 0.177917\n",
      "         Iterations: 200\n",
      "         Function evaluations: 3770\n",
      "         Gradient evaluations: 377\n",
      "Warning: Maximum number of iterations has been exceeded.\n",
      "         Current function value: 0.249944\n",
      "         Iterations: 200\n",
      "         Function evaluations: 3880\n",
      "         Gradient evaluations: 388\n",
      "Optimization terminated successfully.\n",
      "         Current function value: 0.385063\n",
      "         Iterations: 158\n",
      "         Function evaluations: 2950\n",
      "         Gradient evaluations: 295\n",
      "Optimization terminated successfully.\n",
      "         Current function value: 0.669275\n",
      "         Iterations: 142\n",
      "         Function evaluations: 2490\n",
      "         Gradient evaluations: 249\n",
      "Optimization terminated successfully.\n",
      "         Current function value: 1.443470\n",
      "         Iterations: 64\n",
      "         Function evaluations: 1230\n",
      "         Gradient evaluations: 123\n",
      "Optimization terminated successfully.\n",
      "         Current function value: 3.101591\n",
      "         Iterations: 56\n",
      "         Function evaluations: 980\n",
      "         Gradient evaluations: 98\n",
      "Optimization terminated successfully.\n",
      "         Current function value: 7.268148\n",
      "         Iterations: 36\n",
      "         Function evaluations: 590\n",
      "         Gradient evaluations: 59\n",
      "Optimization terminated successfully.\n",
      "         Current function value: 15.867688\n",
      "         Iterations: 27\n",
      "         Function evaluations: 470\n",
      "         Gradient evaluations: 47\n",
      "Optimization terminated successfully.\n",
      "         Current function value: 33.372203\n",
      "         Iterations: 14\n",
      "         Function evaluations: 270\n",
      "         Gradient evaluations: 27\n"
     ]
    },
    {
     "data": {
      "image/png": "[encoded data removed]",
      "text/plain": [
       "<Figure size 432x288 with 1 Axes>"
      ]
     },
     "metadata": {
      "needs_background": "light"
     },
     "output_type": "display_data"
    },
    {
     "name": "stdout",
     "output_type": "stream",
     "text": [
      "Lambda\t\tTrain Error\tValidation Error\n",
      " 0.000000\t0.047011\t13.788493\n",
      " 0.001000\t0.177917\t12.777509\n",
      " 0.003000\t0.249944\t16.529880\n",
      " 0.010000\t0.385063\t17.043191\n",
      " 0.030000\t0.669275\t13.051981\n",
      " 0.100000\t1.443470\t8.149642\n",
      " 0.300000\t3.101591\t5.882428\n",
      " 1.000000\t7.268148\t7.227499\n",
      " 3.000000\t15.867688\t10.089379\n",
      " 10.000000\t33.372203\t19.819786\n"
     ]
    }
   ],
   "source": [
    "## =========== Part 8: Validation for Selecting Lambda =============\n",
    "#  You will now implement validationCurve to test various values of \n",
    "#  Lambda on a validation set. You will then use this to select the\n",
    "#  \"best\" Lambda value.\n",
    "#\n",
    "\n",
    "Lambda_vec, error_train, error_val = validationCurve(X_poly, y, X_poly_val, yval)\n",
    "plt.figure()\n",
    "plt.plot(Lambda_vec, error_train, label='Train')\n",
    "plt.plot(Lambda_vec, error_val, label='Train')\n",
    "\n",
    "plt.legend()\n",
    "plt.xlabel('Lambda')\n",
    "plt.ylabel('Error')\n",
    "plt.show()\n",
    "print ('Lambda\\t\\tTrain Error\\tValidation Error')\n",
    "for i in range(Lambda_vec.size):\n",
    "    print (' %f\\t%f\\t%f' % (Lambda_vec[i], error_train[i], error_val[i]))\n",
    "\n"
   ]
  },
  {
   "cell_type": "code",
   "execution_count": null,
   "id": "98b4d1f9",
   "metadata": {},
   "outputs": [],
   "source": []
  }
 ],
 "metadata": {
  "kernelspec": {
   "display_name": "Python 3 (ipykernel)",
   "language": "python",
   "name": "python3"
  },
  "language_info": {
   "codemirror_mode": {
    "name": "ipython",
    "version": 3
   },
   "file_extension": ".py",
   "mimetype": "text/x-python",
   "name": "python",
   "nbconvert_exporter": "python",
   "pygments_lexer": "ipython3",
   "version": "3.9.7"
  }
 },
 "nbformat": 4,
 "nbformat_minor": 5
}
